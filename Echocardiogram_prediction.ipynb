{
 "cells": [
  {
   "cell_type": "code",
   "execution_count": 1,
   "id": "b6e4a7d6",
   "metadata": {},
   "outputs": [],
   "source": [
    "import numpy as np\n",
    "import pandas as pd\n",
    "import matplotlib.pyplot as plt\n",
    "import seaborn as sns"
   ]
  },
  {
   "cell_type": "code",
   "execution_count": 2,
   "id": "acdb1c04",
   "metadata": {},
   "outputs": [
    {
     "data": {
      "text/html": [
       "<div>\n",
       "<style scoped>\n",
       "    .dataframe tbody tr th:only-of-type {\n",
       "        vertical-align: middle;\n",
       "    }\n",
       "\n",
       "    .dataframe tbody tr th {\n",
       "        vertical-align: top;\n",
       "    }\n",
       "\n",
       "    .dataframe thead th {\n",
       "        text-align: right;\n",
       "    }\n",
       "</style>\n",
       "<table border=\"1\" class=\"dataframe\">\n",
       "  <thead>\n",
       "    <tr style=\"text-align: right;\">\n",
       "      <th></th>\n",
       "      <th>survival</th>\n",
       "      <th>still-alive</th>\n",
       "      <th>age-at-heart-attack</th>\n",
       "      <th>pericardial-effusion</th>\n",
       "      <th>fractional-shortening</th>\n",
       "      <th>epss</th>\n",
       "      <th>lvdd</th>\n",
       "      <th>wall-motion-score</th>\n",
       "      <th>wall-motion-index</th>\n",
       "      <th>mult</th>\n",
       "      <th>name</th>\n",
       "      <th>group</th>\n",
       "      <th>alive-at-1</th>\n",
       "      <th>Unnamed: 13</th>\n",
       "    </tr>\n",
       "  </thead>\n",
       "  <tbody>\n",
       "    <tr>\n",
       "      <th>0</th>\n",
       "      <td>11</td>\n",
       "      <td>0</td>\n",
       "      <td>71</td>\n",
       "      <td>0</td>\n",
       "      <td>0.26</td>\n",
       "      <td>9</td>\n",
       "      <td>4.6</td>\n",
       "      <td>14</td>\n",
       "      <td>1</td>\n",
       "      <td>1</td>\n",
       "      <td>name</td>\n",
       "      <td>1</td>\n",
       "      <td>0</td>\n",
       "      <td>NaN</td>\n",
       "    </tr>\n",
       "    <tr>\n",
       "      <th>1</th>\n",
       "      <td>19</td>\n",
       "      <td>0</td>\n",
       "      <td>72</td>\n",
       "      <td>0</td>\n",
       "      <td>0.38</td>\n",
       "      <td>6</td>\n",
       "      <td>4.1</td>\n",
       "      <td>14</td>\n",
       "      <td>1.7</td>\n",
       "      <td>0.588</td>\n",
       "      <td>name</td>\n",
       "      <td>1</td>\n",
       "      <td>0</td>\n",
       "      <td>NaN</td>\n",
       "    </tr>\n",
       "    <tr>\n",
       "      <th>2</th>\n",
       "      <td>16</td>\n",
       "      <td>0</td>\n",
       "      <td>55</td>\n",
       "      <td>0</td>\n",
       "      <td>0.26</td>\n",
       "      <td>4</td>\n",
       "      <td>3.42</td>\n",
       "      <td>14</td>\n",
       "      <td>1</td>\n",
       "      <td>1</td>\n",
       "      <td>name</td>\n",
       "      <td>1</td>\n",
       "      <td>0</td>\n",
       "      <td>NaN</td>\n",
       "    </tr>\n",
       "    <tr>\n",
       "      <th>3</th>\n",
       "      <td>57</td>\n",
       "      <td>0</td>\n",
       "      <td>60</td>\n",
       "      <td>0</td>\n",
       "      <td>0.253</td>\n",
       "      <td>12.062</td>\n",
       "      <td>4.603</td>\n",
       "      <td>16</td>\n",
       "      <td>1.45</td>\n",
       "      <td>0.788</td>\n",
       "      <td>name</td>\n",
       "      <td>1</td>\n",
       "      <td>0</td>\n",
       "      <td>NaN</td>\n",
       "    </tr>\n",
       "    <tr>\n",
       "      <th>4</th>\n",
       "      <td>19</td>\n",
       "      <td>1</td>\n",
       "      <td>57</td>\n",
       "      <td>0</td>\n",
       "      <td>0.16</td>\n",
       "      <td>22</td>\n",
       "      <td>5.75</td>\n",
       "      <td>18</td>\n",
       "      <td>2.25</td>\n",
       "      <td>0.571</td>\n",
       "      <td>name</td>\n",
       "      <td>1</td>\n",
       "      <td>0</td>\n",
       "      <td>NaN</td>\n",
       "    </tr>\n",
       "  </tbody>\n",
       "</table>\n",
       "</div>"
      ],
      "text/plain": [
       "  survival still-alive age-at-heart-attack  pericardial-effusion  \\\n",
       "0       11           0                  71                     0   \n",
       "1       19           0                  72                     0   \n",
       "2       16           0                  55                     0   \n",
       "3       57           0                  60                     0   \n",
       "4       19           1                  57                     0   \n",
       "\n",
       "  fractional-shortening    epss   lvdd wall-motion-score wall-motion-index  \\\n",
       "0                  0.26       9    4.6                14                 1   \n",
       "1                  0.38       6    4.1                14               1.7   \n",
       "2                  0.26       4   3.42                14                 1   \n",
       "3                 0.253  12.062  4.603                16              1.45   \n",
       "4                  0.16      22   5.75                18              2.25   \n",
       "\n",
       "    mult  name group alive-at-1 Unnamed: 13  \n",
       "0      1  name     1          0         NaN  \n",
       "1  0.588  name     1          0         NaN  \n",
       "2      1  name     1          0         NaN  \n",
       "3  0.788  name     1          0         NaN  \n",
       "4  0.571  name     1          0         NaN  "
      ]
     },
     "execution_count": 2,
     "metadata": {},
     "output_type": "execute_result"
    }
   ],
   "source": [
    "data = pd.read_csv(\"echocardiogram.csv\")\n",
    "data.head()"
   ]
  },
  {
   "cell_type": "code",
   "execution_count": 3,
   "id": "90e9f757",
   "metadata": {},
   "outputs": [
    {
     "data": {
      "text/html": [
       "<div>\n",
       "<style scoped>\n",
       "    .dataframe tbody tr th:only-of-type {\n",
       "        vertical-align: middle;\n",
       "    }\n",
       "\n",
       "    .dataframe tbody tr th {\n",
       "        vertical-align: top;\n",
       "    }\n",
       "\n",
       "    .dataframe thead th {\n",
       "        text-align: right;\n",
       "    }\n",
       "</style>\n",
       "<table border=\"1\" class=\"dataframe\">\n",
       "  <thead>\n",
       "    <tr style=\"text-align: right;\">\n",
       "      <th></th>\n",
       "      <th>survival</th>\n",
       "      <th>still-alive</th>\n",
       "      <th>age-at-heart-attack</th>\n",
       "      <th>pericardial-effusion</th>\n",
       "      <th>fractional-shortening</th>\n",
       "      <th>epss</th>\n",
       "      <th>lvdd</th>\n",
       "      <th>wall-motion-score</th>\n",
       "      <th>wall-motion-index</th>\n",
       "      <th>mult</th>\n",
       "      <th>group</th>\n",
       "      <th>alive-at-1</th>\n",
       "    </tr>\n",
       "  </thead>\n",
       "  <tbody>\n",
       "    <tr>\n",
       "      <th>0</th>\n",
       "      <td>11</td>\n",
       "      <td>0</td>\n",
       "      <td>71</td>\n",
       "      <td>0</td>\n",
       "      <td>0.26</td>\n",
       "      <td>9</td>\n",
       "      <td>4.6</td>\n",
       "      <td>14</td>\n",
       "      <td>1</td>\n",
       "      <td>1</td>\n",
       "      <td>1</td>\n",
       "      <td>0</td>\n",
       "    </tr>\n",
       "    <tr>\n",
       "      <th>1</th>\n",
       "      <td>19</td>\n",
       "      <td>0</td>\n",
       "      <td>72</td>\n",
       "      <td>0</td>\n",
       "      <td>0.38</td>\n",
       "      <td>6</td>\n",
       "      <td>4.1</td>\n",
       "      <td>14</td>\n",
       "      <td>1.7</td>\n",
       "      <td>0.588</td>\n",
       "      <td>1</td>\n",
       "      <td>0</td>\n",
       "    </tr>\n",
       "    <tr>\n",
       "      <th>2</th>\n",
       "      <td>16</td>\n",
       "      <td>0</td>\n",
       "      <td>55</td>\n",
       "      <td>0</td>\n",
       "      <td>0.26</td>\n",
       "      <td>4</td>\n",
       "      <td>3.42</td>\n",
       "      <td>14</td>\n",
       "      <td>1</td>\n",
       "      <td>1</td>\n",
       "      <td>1</td>\n",
       "      <td>0</td>\n",
       "    </tr>\n",
       "    <tr>\n",
       "      <th>3</th>\n",
       "      <td>57</td>\n",
       "      <td>0</td>\n",
       "      <td>60</td>\n",
       "      <td>0</td>\n",
       "      <td>0.253</td>\n",
       "      <td>12.062</td>\n",
       "      <td>4.603</td>\n",
       "      <td>16</td>\n",
       "      <td>1.45</td>\n",
       "      <td>0.788</td>\n",
       "      <td>1</td>\n",
       "      <td>0</td>\n",
       "    </tr>\n",
       "    <tr>\n",
       "      <th>4</th>\n",
       "      <td>19</td>\n",
       "      <td>1</td>\n",
       "      <td>57</td>\n",
       "      <td>0</td>\n",
       "      <td>0.16</td>\n",
       "      <td>22</td>\n",
       "      <td>5.75</td>\n",
       "      <td>18</td>\n",
       "      <td>2.25</td>\n",
       "      <td>0.571</td>\n",
       "      <td>1</td>\n",
       "      <td>0</td>\n",
       "    </tr>\n",
       "  </tbody>\n",
       "</table>\n",
       "</div>"
      ],
      "text/plain": [
       "  survival still-alive age-at-heart-attack  pericardial-effusion  \\\n",
       "0       11           0                  71                     0   \n",
       "1       19           0                  72                     0   \n",
       "2       16           0                  55                     0   \n",
       "3       57           0                  60                     0   \n",
       "4       19           1                  57                     0   \n",
       "\n",
       "  fractional-shortening    epss   lvdd wall-motion-score wall-motion-index  \\\n",
       "0                  0.26       9    4.6                14                 1   \n",
       "1                  0.38       6    4.1                14               1.7   \n",
       "2                  0.26       4   3.42                14                 1   \n",
       "3                 0.253  12.062  4.603                16              1.45   \n",
       "4                  0.16      22   5.75                18              2.25   \n",
       "\n",
       "    mult group alive-at-1  \n",
       "0      1     1          0  \n",
       "1  0.588     1          0  \n",
       "2      1     1          0  \n",
       "3  0.788     1          0  \n",
       "4  0.571     1          0  "
      ]
     },
     "execution_count": 3,
     "metadata": {},
     "output_type": "execute_result"
    }
   ],
   "source": [
    "data = data.drop(['name','Unnamed: 13'], axis=1)\n",
    "data.head()"
   ]
  },
  {
   "cell_type": "code",
   "execution_count": 4,
   "id": "ce4b5d82",
   "metadata": {},
   "outputs": [
    {
     "data": {
      "text/html": [
       "<div>\n",
       "<style scoped>\n",
       "    .dataframe tbody tr th:only-of-type {\n",
       "        vertical-align: middle;\n",
       "    }\n",
       "\n",
       "    .dataframe tbody tr th {\n",
       "        vertical-align: top;\n",
       "    }\n",
       "\n",
       "    .dataframe thead th {\n",
       "        text-align: right;\n",
       "    }\n",
       "</style>\n",
       "<table border=\"1\" class=\"dataframe\">\n",
       "  <thead>\n",
       "    <tr style=\"text-align: right;\">\n",
       "      <th></th>\n",
       "      <th>survival</th>\n",
       "      <th>still-alive</th>\n",
       "      <th>age-at-heart-attack</th>\n",
       "      <th>pericardial-effusion</th>\n",
       "      <th>fractional-shortening</th>\n",
       "      <th>epss</th>\n",
       "      <th>lvdd</th>\n",
       "      <th>wall-motion-score</th>\n",
       "      <th>wall-motion-index</th>\n",
       "      <th>mult</th>\n",
       "      <th>group</th>\n",
       "      <th>alive-at-1</th>\n",
       "    </tr>\n",
       "  </thead>\n",
       "  <tbody>\n",
       "    <tr>\n",
       "      <th>122</th>\n",
       "      <td>31</td>\n",
       "      <td>0</td>\n",
       "      <td>61</td>\n",
       "      <td>0</td>\n",
       "      <td>0.18</td>\n",
       "      <td>0</td>\n",
       "      <td>4.48</td>\n",
       "      <td>11</td>\n",
       "      <td>1.375</td>\n",
       "      <td>0.57</td>\n",
       "      <td>?</td>\n",
       "      <td>?</td>\n",
       "    </tr>\n",
       "    <tr>\n",
       "      <th>123</th>\n",
       "      <td>12</td>\n",
       "      <td>0</td>\n",
       "      <td>61</td>\n",
       "      <td>1</td>\n",
       "      <td>0.19</td>\n",
       "      <td>13.2</td>\n",
       "      <td>5.04</td>\n",
       "      <td>19</td>\n",
       "      <td>1.73</td>\n",
       "      <td>0.786</td>\n",
       "      <td>?</td>\n",
       "      <td>?</td>\n",
       "    </tr>\n",
       "    <tr>\n",
       "      <th>124</th>\n",
       "      <td>36</td>\n",
       "      <td>0</td>\n",
       "      <td>48</td>\n",
       "      <td>0</td>\n",
       "      <td>0.15</td>\n",
       "      <td>12</td>\n",
       "      <td>3.66</td>\n",
       "      <td>10</td>\n",
       "      <td>1</td>\n",
       "      <td>0.714</td>\n",
       "      <td>?</td>\n",
       "      <td>?</td>\n",
       "    </tr>\n",
       "    <tr>\n",
       "      <th>125</th>\n",
       "      <td>17</td>\n",
       "      <td>0</td>\n",
       "      <td>?</td>\n",
       "      <td>0</td>\n",
       "      <td>0.09</td>\n",
       "      <td>6.8</td>\n",
       "      <td>4.96</td>\n",
       "      <td>13</td>\n",
       "      <td>1.08</td>\n",
       "      <td>0.857</td>\n",
       "      <td>?</td>\n",
       "      <td>?</td>\n",
       "    </tr>\n",
       "    <tr>\n",
       "      <th>126</th>\n",
       "      <td>21</td>\n",
       "      <td>0</td>\n",
       "      <td>61</td>\n",
       "      <td>0</td>\n",
       "      <td>0.14</td>\n",
       "      <td>25.5</td>\n",
       "      <td>5.16</td>\n",
       "      <td>14</td>\n",
       "      <td>1.27</td>\n",
       "      <td>0.786</td>\n",
       "      <td>?</td>\n",
       "      <td>?</td>\n",
       "    </tr>\n",
       "    <tr>\n",
       "      <th>127</th>\n",
       "      <td>7.5</td>\n",
       "      <td>1</td>\n",
       "      <td>64</td>\n",
       "      <td>0</td>\n",
       "      <td>0.24</td>\n",
       "      <td>12.9</td>\n",
       "      <td>4.72</td>\n",
       "      <td>12</td>\n",
       "      <td>1</td>\n",
       "      <td>0.857</td>\n",
       "      <td>?</td>\n",
       "      <td>?</td>\n",
       "    </tr>\n",
       "    <tr>\n",
       "      <th>128</th>\n",
       "      <td>41</td>\n",
       "      <td>0</td>\n",
       "      <td>64</td>\n",
       "      <td>0</td>\n",
       "      <td>0.28</td>\n",
       "      <td>5.4</td>\n",
       "      <td>5.47</td>\n",
       "      <td>11</td>\n",
       "      <td>1.1</td>\n",
       "      <td>0.714</td>\n",
       "      <td>?</td>\n",
       "      <td>?</td>\n",
       "    </tr>\n",
       "    <tr>\n",
       "      <th>129</th>\n",
       "      <td>36</td>\n",
       "      <td>0</td>\n",
       "      <td>69</td>\n",
       "      <td>0</td>\n",
       "      <td>0.2</td>\n",
       "      <td>7</td>\n",
       "      <td>5.05</td>\n",
       "      <td>14.5</td>\n",
       "      <td>1.21</td>\n",
       "      <td>0.857</td>\n",
       "      <td>?</td>\n",
       "      <td>?</td>\n",
       "    </tr>\n",
       "    <tr>\n",
       "      <th>130</th>\n",
       "      <td>22</td>\n",
       "      <td>0</td>\n",
       "      <td>57</td>\n",
       "      <td>0</td>\n",
       "      <td>0.14</td>\n",
       "      <td>16.1</td>\n",
       "      <td>4.36</td>\n",
       "      <td>15</td>\n",
       "      <td>1.36</td>\n",
       "      <td>0.786</td>\n",
       "      <td>?</td>\n",
       "      <td>?</td>\n",
       "    </tr>\n",
       "    <tr>\n",
       "      <th>131</th>\n",
       "      <td>20</td>\n",
       "      <td>0</td>\n",
       "      <td>62</td>\n",
       "      <td>0</td>\n",
       "      <td>0.15</td>\n",
       "      <td>0</td>\n",
       "      <td>4.51</td>\n",
       "      <td>15.5</td>\n",
       "      <td>1.409</td>\n",
       "      <td>0.786</td>\n",
       "      <td>?</td>\n",
       "      <td>?</td>\n",
       "    </tr>\n",
       "  </tbody>\n",
       "</table>\n",
       "</div>"
      ],
      "text/plain": [
       "    survival still-alive age-at-heart-attack  pericardial-effusion  \\\n",
       "122       31           0                  61                     0   \n",
       "123       12           0                  61                     1   \n",
       "124       36           0                  48                     0   \n",
       "125       17           0                   ?                     0   \n",
       "126       21           0                  61                     0   \n",
       "127      7.5           1                  64                     0   \n",
       "128       41           0                  64                     0   \n",
       "129       36           0                  69                     0   \n",
       "130       22           0                  57                     0   \n",
       "131       20           0                  62                     0   \n",
       "\n",
       "    fractional-shortening  epss  lvdd wall-motion-score wall-motion-index  \\\n",
       "122                  0.18     0  4.48                11             1.375   \n",
       "123                  0.19  13.2  5.04                19              1.73   \n",
       "124                  0.15    12  3.66                10                 1   \n",
       "125                  0.09   6.8  4.96                13              1.08   \n",
       "126                  0.14  25.5  5.16                14              1.27   \n",
       "127                  0.24  12.9  4.72                12                 1   \n",
       "128                  0.28   5.4  5.47                11               1.1   \n",
       "129                   0.2     7  5.05              14.5              1.21   \n",
       "130                  0.14  16.1  4.36                15              1.36   \n",
       "131                  0.15     0  4.51              15.5             1.409   \n",
       "\n",
       "      mult group alive-at-1  \n",
       "122   0.57     ?          ?  \n",
       "123  0.786     ?          ?  \n",
       "124  0.714     ?          ?  \n",
       "125  0.857     ?          ?  \n",
       "126  0.786     ?          ?  \n",
       "127  0.857     ?          ?  \n",
       "128  0.714     ?          ?  \n",
       "129  0.857     ?          ?  \n",
       "130  0.786     ?          ?  \n",
       "131  0.786     ?          ?  "
      ]
     },
     "execution_count": 4,
     "metadata": {},
     "output_type": "execute_result"
    }
   ],
   "source": [
    "data.tail(10)"
   ]
  },
  {
   "cell_type": "code",
   "execution_count": 5,
   "id": "9410bd22",
   "metadata": {},
   "outputs": [
    {
     "data": {
      "text/plain": [
       "survival                 1\n",
       "still-alive              0\n",
       "age-at-heart-attack      0\n",
       "pericardial-effusion     0\n",
       "fractional-shortening    0\n",
       "epss                     0\n",
       "lvdd                     0\n",
       "wall-motion-score        0\n",
       "wall-motion-index        0\n",
       "mult                     0\n",
       "group                    0\n",
       "alive-at-1               0\n",
       "dtype: int64"
      ]
     },
     "execution_count": 5,
     "metadata": {},
     "output_type": "execute_result"
    }
   ],
   "source": [
    "data.isnull().sum()"
   ]
  },
  {
   "cell_type": "code",
   "execution_count": 6,
   "id": "cba6f17d",
   "metadata": {},
   "outputs": [
    {
     "data": {
      "text/html": [
       "<div>\n",
       "<style scoped>\n",
       "    .dataframe tbody tr th:only-of-type {\n",
       "        vertical-align: middle;\n",
       "    }\n",
       "\n",
       "    .dataframe tbody tr th {\n",
       "        vertical-align: top;\n",
       "    }\n",
       "\n",
       "    .dataframe thead th {\n",
       "        text-align: right;\n",
       "    }\n",
       "</style>\n",
       "<table border=\"1\" class=\"dataframe\">\n",
       "  <thead>\n",
       "    <tr style=\"text-align: right;\">\n",
       "      <th></th>\n",
       "      <th>survival</th>\n",
       "      <th>still-alive</th>\n",
       "      <th>age-at-heart-attack</th>\n",
       "      <th>pericardial-effusion</th>\n",
       "      <th>fractional-shortening</th>\n",
       "      <th>epss</th>\n",
       "      <th>lvdd</th>\n",
       "      <th>wall-motion-score</th>\n",
       "      <th>wall-motion-index</th>\n",
       "      <th>mult</th>\n",
       "      <th>group</th>\n",
       "      <th>alive-at-1</th>\n",
       "    </tr>\n",
       "  </thead>\n",
       "  <tbody>\n",
       "    <tr>\n",
       "      <th>47</th>\n",
       "      <td>20</td>\n",
       "      <td>1</td>\n",
       "      <td>59</td>\n",
       "      <td>0</td>\n",
       "      <td>0.03</td>\n",
       "      <td>21.3</td>\n",
       "      <td>6.29</td>\n",
       "      <td>17</td>\n",
       "      <td>1.31</td>\n",
       "      <td>0.928</td>\n",
       "      <td>2</td>\n",
       "      <td>0</td>\n",
       "    </tr>\n",
       "    <tr>\n",
       "      <th>48</th>\n",
       "      <td>0.25</td>\n",
       "      <td>1</td>\n",
       "      <td>63</td>\n",
       "      <td>1</td>\n",
       "      <td>NaN</td>\n",
       "      <td>NaN</td>\n",
       "      <td>NaN</td>\n",
       "      <td>23</td>\n",
       "      <td>2.3</td>\n",
       "      <td>0.714</td>\n",
       "      <td>2</td>\n",
       "      <td>1</td>\n",
       "    </tr>\n",
       "    <tr>\n",
       "      <th>49</th>\n",
       "      <td>NaN</td>\n",
       "      <td>NaN</td>\n",
       "      <td>NaN</td>\n",
       "      <td>77</td>\n",
       "      <td>NaN</td>\n",
       "      <td>NaN</td>\n",
       "      <td>NaN</td>\n",
       "      <td>NaN</td>\n",
       "      <td>NaN</td>\n",
       "      <td>2</td>\n",
       "      <td>NaN</td>\n",
       "      <td>2</td>\n",
       "    </tr>\n",
       "    <tr>\n",
       "      <th>50</th>\n",
       "      <td>2</td>\n",
       "      <td>1</td>\n",
       "      <td>56</td>\n",
       "      <td>1</td>\n",
       "      <td>0.04</td>\n",
       "      <td>14</td>\n",
       "      <td>5</td>\n",
       "      <td>NaN</td>\n",
       "      <td>NaN</td>\n",
       "      <td>NaN</td>\n",
       "      <td>2</td>\n",
       "      <td>1</td>\n",
       "    </tr>\n",
       "    <tr>\n",
       "      <th>51</th>\n",
       "      <td>7</td>\n",
       "      <td>1</td>\n",
       "      <td>61</td>\n",
       "      <td>1</td>\n",
       "      <td>0.27</td>\n",
       "      <td>NaN</td>\n",
       "      <td>NaN</td>\n",
       "      <td>9</td>\n",
       "      <td>1.5</td>\n",
       "      <td>0.428</td>\n",
       "      <td>2</td>\n",
       "      <td>1</td>\n",
       "    </tr>\n",
       "    <tr>\n",
       "      <th>52</th>\n",
       "      <td>10</td>\n",
       "      <td>0</td>\n",
       "      <td>57</td>\n",
       "      <td>0</td>\n",
       "      <td>0.24</td>\n",
       "      <td>14.8</td>\n",
       "      <td>5.26</td>\n",
       "      <td>18</td>\n",
       "      <td>1.38</td>\n",
       "      <td>0.812</td>\n",
       "      <td>2</td>\n",
       "      <td>NaN</td>\n",
       "    </tr>\n",
       "  </tbody>\n",
       "</table>\n",
       "</div>"
      ],
      "text/plain": [
       "   survival still-alive age-at-heart-attack  pericardial-effusion  \\\n",
       "47       20           1                  59                     0   \n",
       "48     0.25           1                  63                     1   \n",
       "49      NaN         NaN                 NaN                    77   \n",
       "50        2           1                  56                     1   \n",
       "51        7           1                  61                     1   \n",
       "52       10           0                  57                     0   \n",
       "\n",
       "   fractional-shortening  epss  lvdd wall-motion-score wall-motion-index  \\\n",
       "47                  0.03  21.3  6.29                17              1.31   \n",
       "48                   NaN   NaN   NaN                23               2.3   \n",
       "49                   NaN   NaN   NaN               NaN               NaN   \n",
       "50                  0.04    14     5               NaN               NaN   \n",
       "51                  0.27   NaN   NaN                 9               1.5   \n",
       "52                  0.24  14.8  5.26                18              1.38   \n",
       "\n",
       "     mult group alive-at-1  \n",
       "47  0.928     2          0  \n",
       "48  0.714     2          1  \n",
       "49      2   NaN          2  \n",
       "50    NaN     2          1  \n",
       "51  0.428     2          1  \n",
       "52  0.812     2        NaN  "
      ]
     },
     "execution_count": 6,
     "metadata": {},
     "output_type": "execute_result"
    }
   ],
   "source": [
    "data=data.replace('?',np.NaN)\n",
    "data.tail(10)\n",
    "data=data.replace('name',np.NaN)\n",
    "data[47:53]"
   ]
  },
  {
   "cell_type": "code",
   "execution_count": 7,
   "id": "1e3e558e",
   "metadata": {
    "scrolled": true
   },
   "outputs": [
    {
     "data": {
      "text/plain": [
       "survival                  2\n",
       "still-alive               1\n",
       "age-at-heart-attack       6\n",
       "pericardial-effusion      0\n",
       "fractional-shortening     8\n",
       "epss                     15\n",
       "lvdd                     11\n",
       "wall-motion-score         4\n",
       "wall-motion-index         2\n",
       "mult                      3\n",
       "group                    23\n",
       "alive-at-1               57\n",
       "dtype: int64"
      ]
     },
     "execution_count": 7,
     "metadata": {},
     "output_type": "execute_result"
    }
   ],
   "source": [
    "data.isnull().sum()"
   ]
  },
  {
   "cell_type": "code",
   "execution_count": 8,
   "id": "c275f303",
   "metadata": {},
   "outputs": [
    {
     "name": "stdout",
     "output_type": "stream",
     "text": [
      "survival : 0.0152 %\n",
      "still-alive : 0.0076 %\n",
      "age-at-heart-attack : 0.0455 %\n",
      "fractional-shortening : 0.0606 %\n",
      "epss : 0.1136 %\n",
      "lvdd : 0.0833 %\n",
      "wall-motion-score : 0.0303 %\n",
      "wall-motion-index : 0.0152 %\n",
      "mult : 0.0227 %\n",
      "group : 0.1742 %\n",
      "alive-at-1 : 0.4318 %\n"
     ]
    }
   ],
   "source": [
    "features_with_null = [features for features in data.columns if data[features].isnull().sum()>0]\n",
    "for feature in features_with_null:\n",
    "    print(feature, ':', round(data[feature].isnull().mean(), 4), '%')"
   ]
  },
  {
   "cell_type": "code",
   "execution_count": 9,
   "id": "c56b08c5",
   "metadata": {},
   "outputs": [
    {
     "name": "stdout",
     "output_type": "stream",
     "text": [
      "survival : ['11' '19' '16' '57' '26' '13' '50' '25' '10' '52' '44' '0.5' '24' '22'\n",
      " '1' '0.75' '5' '48' '29' '0.25' '36' '3' '27' '35' '31' '32' '40' '46'\n",
      " '2' '37' '19.5' '20' nan '7' '12' '45' '53' '38' '9' '49' '47' '41' '33'\n",
      " '15' '0.03' '23' '34' '21' '55' '4' '1.25' '28' '17' '7.5']\n",
      "still-alive : ['0' '1' nan]\n",
      "age-at-heart-attack : ['71' '72' '55' '60' '57' '68' '62' '46' '54' '77' '73' '69' '62.529' '66'\n",
      " '85' '64' '35' '75' '65' '52' nan '47' '63' '61' '80' '70' '79' '56' '67'\n",
      " '81' '59' '58' '51' '50' '78' '86' '74' '53' '48']\n",
      "fractional-shortening : ['0.26' '0.38' '0.253' '0.16' '0.23' '0.33' '0.34' '0.14' '0.13' '0.45'\n",
      " '0.15' '0.12' '0.25' '0.07' '0.09' '0.22' '0.18' '0.17' '0.19' '0.3' nan\n",
      " '0.21' '0.4' '0.61' '0.06' '0.51' '0.41' '0.35' '0.27' '0.44' '0.03'\n",
      " '0.04' '0.24' '0.01' '0.29' '0.1' '0.187' '0.11' '0.36' '0.225' '0.217'\n",
      " '0.2' '0.05' '0.28' '0.155' '0.344' '0.272' '0.5' '0.258' '0.228' '0.036'\n",
      " '0.43']\n",
      "epss : ['9' '6' '4' '12.062' '22' '5' '31' '8' '0' '13' '16' '10' '23' '12.063'\n",
      " '11' '20' '17' '15' '12' '19' '12.733' '5.9' '7' nan '4.2' '17.2' '5.12'\n",
      " '13.1' '23.6' '5.4' '9.3' '4.7' '17.5' '21.3' '14' '14.8' '9.4' '24.6'\n",
      " '15.6' '18.6' '9.8' '11.9' '16.4' '10.3' '13.2' '11.4' '9.7' '8.8' '16.1'\n",
      " '12.2' '10.2' '7.5' '30.1' '17.9' '21.7' '19.4' '7.1' '16.8' '25' '19.2'\n",
      " '5.5' '8.7' '11.3' '6.6' '9.1' '16.5' '5.6' '4.8' '8.5' '28.9' '11.8'\n",
      " '6.9' '14.3' '40' '7.6' '12.1' '13.6' '9.2' '28.6' '19.1' '6.8' '25.5'\n",
      " '12.9']\n",
      "lvdd : ['4.6' '4.1' '3.42' '4.603' '5.75' '4.31' '5.43' '5.25' '5.09' '4.49'\n",
      " '4.23' '3.6' '4' '3.73' '5.8' '4.29' '4.65' '5.2' '5.819' '5.4' '5.39'\n",
      " '5.46' '6.06' '3.48' '3.85' '4.17' nan '4.16' '5.05' '5.32' '3.1' '4.07'\n",
      " '5.31' '3.88' '4.36' '3.63' '4.27' '3.59' '3.96' '6.29' '5' '5.26' '3.49'\n",
      " '5.65' '6.15' '4.57' '4.37' '5.3' '4.41' '5.15' '6.78' '5.02' '4.96'\n",
      " '4.68' '4.75' '5.57' '5.78' '5.62' '4.72' '5.95' '4.54' '4.85' '4.77'\n",
      " '4.58' '6.74' '4.48' '4.44' '6.21' '4.14' '4.56' '5.16' '4.04' '5.36'\n",
      " '4.02' '3.87' '5.47' '6.73' '4.69' '4.55' '4.87' '3.52' '5.49' '4.12'\n",
      " '6.23' '4.42' '3.92' '4.38' '4.06' '6.63' '4.79' '5.86' '2.32' '5.04'\n",
      " '3.66' '4.51']\n",
      "wall-motion-score : ['14' '16' '18' '12' '22.5' '15.5' '11.67' '24' '8' '27' '19.5' '13.83'\n",
      " '7.5' '10' '2' nan '6' '13' '5' '21.5' '15' '11' '22' '17.5' '9' '17'\n",
      " '23' '39' '12.33' '10.5' '16.67' '17.83' '5.5' '13.67' '16.5' '21' '28'\n",
      " '11.5' '13.5' '12.67' '15.67' '12.5' '26.08' '18.16' '19' '14.5']\n",
      "wall-motion-index : ['1' '1.7' '1.45' '2.25' '1.875' '1.14' '1.19' '1.8' '2.33' '1.64' '2'\n",
      " '1.333' '1.625' '1.38' '1.5' '1.11' '1.667' '1.56' '1.17' '3' '2.15'\n",
      " '1.67' '1.222' '1.3' '1.25' '1.31' '2.3' nan '1.08' '1.37' '1.167' '1.05'\n",
      " '1.39' '1.18' '2.5' '1.1' '1.367' '2.18' '2.39' '1.15' '2.1' '1.09'\n",
      " '1.36' '1.41' '1.83' '1.04' '1.27' '1.06' '1.42' '2.01' '1.51' '1.23'\n",
      " '1.4' '2.2' '1.95' '1.2' '1.375' '1.73' '1.21' '1.409']\n",
      "mult : ['1' '0.588' '0.788' '0.571' '0.857' '1.003' '0.93' '0.714' '0.358'\n",
      " '0.784' '0.429' '0.71' '0.36' '0.57' '0.64' '0.43' '2' nan '0.14' '0.357'\n",
      " '0.786' '0.428' '0.928' '0.812' '0.642' '0.785' '0.28' '0.643']\n",
      "group : ['1' '2' nan]\n",
      "alive-at-1 : ['0' '1' nan '2']\n"
     ]
    }
   ],
   "source": [
    "for feature in features_with_null:\n",
    "    print(feature, ':', data[feature].unique())"
   ]
  },
  {
   "cell_type": "code",
   "execution_count": 10,
   "id": "e44708f6",
   "metadata": {},
   "outputs": [
    {
     "data": {
      "text/plain": [
       "0"
      ]
     },
     "execution_count": 10,
     "metadata": {},
     "output_type": "execute_result"
    }
   ],
   "source": [
    "data = data.dropna(subset=['still-alive'])\n",
    "data['still-alive'].isnull().sum()"
   ]
  },
  {
   "cell_type": "code",
   "execution_count": 11,
   "id": "ed923b27",
   "metadata": {},
   "outputs": [
    {
     "name": "stdout",
     "output_type": "stream",
     "text": [
      "Index(['survival', 'age-at-heart-attack', 'fractional-shortening', 'epss',\n",
      "       'lvdd', 'wall-motion-score', 'wall-motion-index', 'mult', 'group',\n",
      "       'alive-at-1'],\n",
      "      dtype='object')\n"
     ]
    }
   ],
   "source": [
    "discrete_features = ['pericardial-effusion']\n",
    "continuous_features = data.drop(['pericardial-effusion', 'still-alive'], axis=1).columns\n",
    "label = ['still-alive']\n",
    "\n",
    "print(continuous_features)"
   ]
  },
  {
   "cell_type": "code",
   "execution_count": 12,
   "id": "f54c989c",
   "metadata": {},
   "outputs": [],
   "source": [
    "for feature in discrete_features:\n",
    "    data[feature] = data[feature].fillna(data[feature].mode()[0])"
   ]
  },
  {
   "cell_type": "code",
   "execution_count": 13,
   "id": "103b70d9",
   "metadata": {},
   "outputs": [
    {
     "data": {
      "text/plain": [
       "survival                 float64\n",
       "still-alive              float64\n",
       "age-at-heart-attack      float64\n",
       "pericardial-effusion     float64\n",
       "fractional-shortening    float64\n",
       "epss                     float64\n",
       "lvdd                     float64\n",
       "wall-motion-score        float64\n",
       "wall-motion-index        float64\n",
       "mult                     float64\n",
       "group                    float64\n",
       "alive-at-1               float64\n",
       "dtype: object"
      ]
     },
     "execution_count": 13,
     "metadata": {},
     "output_type": "execute_result"
    }
   ],
   "source": [
    "data=data.astype(np.float64)\n",
    "data.dtypes"
   ]
  },
  {
   "cell_type": "code",
   "execution_count": 14,
   "id": "005cfee3",
   "metadata": {},
   "outputs": [
    {
     "data": {
      "image/png": "[encoded data removed]",
      "text/plain": [
       "<Figure size 432x288 with 1 Axes>"
      ]
     },
     "metadata": {
      "needs_background": "light"
     },
     "output_type": "display_data"
    },
    {
     "data": {
      "image/png": "[encoded data removed]",
      "text/plain": [
       "<Figure size 432x288 with 1 Axes>"
      ]
     },
     "metadata": {
      "needs_background": "light"
     },
     "output_type": "display_data"
    },
    {
     "data": {
      "image/png": "[encoded data removed]",
      "text/plain": [
       "<Figure size 432x288 with 1 Axes>"
      ]
     },
     "metadata": {
      "needs_background": "light"
     },
     "output_type": "display_data"
    },
    {
     "data": {
      "image/png": "[encoded data removed]",
      "text/plain": [
       "<Figure size 432x288 with 1 Axes>"
      ]
     },
     "metadata": {
      "needs_background": "light"
     },
     "output_type": "display_data"
    },
    {
     "data": {
      "image/png": "[encoded data removed]",
      "text/plain": [
       "<Figure size 432x288 with 1 Axes>"
      ]
     },
     "metadata": {
      "needs_background": "light"
     },
     "output_type": "display_data"
    },
    {
     "data": {
      "image/png": "[encoded data removed]",
      "text/plain": [
       "<Figure size 432x288 with 1 Axes>"
      ]
     },
     "metadata": {
      "needs_background": "light"
     },
     "output_type": "display_data"
    },
    {
     "data": {
      "image/png": "[encoded data removed]",
      "text/plain": [
       "<Figure size 432x288 with 1 Axes>"
      ]
     },
     "metadata": {
      "needs_background": "light"
     },
     "output_type": "display_data"
    },
    {
     "data": {
      "image/png": "[encoded data removed]",
      "text/plain": [
       "<Figure size 432x288 with 1 Axes>"
      ]
     },
     "metadata": {
      "needs_background": "light"
     },
     "output_type": "display_data"
    },
    {
     "data": {
      "image/png": "[encoded data removed]",
      "text/plain": [
       "<Figure size 432x288 with 1 Axes>"
      ]
     },
     "metadata": {
      "needs_background": "light"
     },
     "output_type": "display_data"
    },
    {
     "data": {
      "image/png": "[encoded data removed]",
      "text/plain": [
       "<Figure size 432x288 with 1 Axes>"
      ]
     },
     "metadata": {
      "needs_background": "light"
     },
     "output_type": "display_data"
    }
   ],
   "source": [
    "for feature in continuous_features:\n",
    "    data.boxplot(feature)\n",
    "    plt.title(feature)\n",
    "    plt.show()"
   ]
  },
  {
   "cell_type": "code",
   "execution_count": 15,
   "id": "e023aebe",
   "metadata": {},
   "outputs": [],
   "source": [
    "\n",
    "data['pericardial-effusion']=data['pericardial-effusion'].astype(np.int64)"
   ]
  },
  {
   "cell_type": "code",
   "execution_count": 16,
   "id": "e9e083b1",
   "metadata": {},
   "outputs": [],
   "source": [
    "features_with_outliers = ['wallmotion-score', 'wallmotion-index', 'mult']"
   ]
  },
  {
   "cell_type": "code",
   "execution_count": 17,
   "id": "ab9b00d7",
   "metadata": {},
   "outputs": [],
   "source": [
    "for feature in continuous_features:\n",
    "    if feature in features_with_outliers:\n",
    "        data[feature].fillna(data[feature].median(),inplace=True)\n",
    "    else:\n",
    "        data[feature].fillna(data[feature].mean(),inplace=True)        "
   ]
  },
  {
   "cell_type": "code",
   "execution_count": 18,
   "id": "4223bc1c",
   "metadata": {},
   "outputs": [
    {
     "data": {
      "text/plain": [
       "survival                 0\n",
       "still-alive              0\n",
       "age-at-heart-attack      0\n",
       "pericardial-effusion     0\n",
       "fractional-shortening    0\n",
       "epss                     0\n",
       "lvdd                     0\n",
       "wall-motion-score        0\n",
       "wall-motion-index        0\n",
       "mult                     0\n",
       "group                    0\n",
       "alive-at-1               0\n",
       "dtype: int64"
      ]
     },
     "execution_count": 18,
     "metadata": {},
     "output_type": "execute_result"
    }
   ],
   "source": [
    "data.isnull().sum()"
   ]
  },
  {
   "cell_type": "code",
   "execution_count": 19,
   "id": "eb3976a4",
   "metadata": {},
   "outputs": [],
   "source": [
    "from sklearn.neighbors import LocalOutlierFactor\n",
    "lof = LocalOutlierFactor()\n",
    "outliers_rows = lof.fit_predict(data)"
   ]
  },
  {
   "cell_type": "code",
   "execution_count": 20,
   "id": "1e22085c",
   "metadata": {},
   "outputs": [],
   "source": [
    "\n",
    "mask = outliers_rows != -1"
   ]
  },
  {
   "cell_type": "code",
   "execution_count": 21,
   "id": "b5ef18ed",
   "metadata": {},
   "outputs": [
    {
     "data": {
      "text/plain": [
       "survival                 0\n",
       "still-alive              0\n",
       "age-at-heart-attack      0\n",
       "pericardial-effusion     0\n",
       "fractional-shortening    0\n",
       "epss                     0\n",
       "lvdd                     0\n",
       "wall-motion-score        0\n",
       "wall-motion-index        0\n",
       "mult                     0\n",
       "group                    0\n",
       "alive-at-1               0\n",
       "dtype: int64"
      ]
     },
     "execution_count": 21,
     "metadata": {},
     "output_type": "execute_result"
    }
   ],
   "source": [
    "data.isnull().sum()\n"
   ]
  },
  {
   "cell_type": "code",
   "execution_count": 22,
   "id": "5ee1f5aa",
   "metadata": {},
   "outputs": [],
   "source": [
    "data = data[mask]"
   ]
  },
  {
   "cell_type": "code",
   "execution_count": 23,
   "id": "8c479b1d",
   "metadata": {},
   "outputs": [],
   "source": [
    "from sklearn.model_selection import train_test_split\n",
    "from sklearn.linear_model import LogisticRegression\n",
    "from sklearn.tree import DecisionTreeClassifier\n",
    "from sklearn.ensemble import RandomForestClassifier\n",
    "from sklearn.metrics import accuracy_score, classification_report"
   ]
  },
  {
   "cell_type": "code",
   "execution_count": 24,
   "id": "de0731dd",
   "metadata": {},
   "outputs": [
    {
     "name": "stdout",
     "output_type": "stream",
     "text": [
      "Index(['survival', 'age-at-heart-attack', 'fractional-shortening', 'epss',\n",
      "       'lvdd', 'wall-motion-score', 'wall-motion-index', 'mult', 'group',\n",
      "       'alive-at-1'],\n",
      "      dtype='object')\n"
     ]
    }
   ],
   "source": [
    "discrete_feature = ['pericardial-effusion']\n",
    "continuous_feature = data.drop(['pericardial-effusion', 'still-alive'], axis=1)\n",
    "label = ['still-alive']\n",
    "\n",
    "print(continuous_features)"
   ]
  },
  {
   "cell_type": "code",
   "execution_count": 25,
   "id": "17c2bc69",
   "metadata": {},
   "outputs": [
    {
     "data": {
      "text/plain": [
       "0"
      ]
     },
     "execution_count": 25,
     "metadata": {},
     "output_type": "execute_result"
    }
   ],
   "source": [
    "continuous_features.isnull().sum()"
   ]
  },
  {
   "cell_type": "code",
   "execution_count": 26,
   "id": "6fef91e2",
   "metadata": {},
   "outputs": [],
   "source": [
    "from sklearn.preprocessing import StandardScaler\n",
    "data1 = pd.get_dummies(data, columns = discrete_features, drop_first = True)\n",
    "scaler = StandardScaler()\n",
    "data1[continuous_features] = scaler.fit_transform(data1[continuous_features])"
   ]
  },
  {
   "cell_type": "code",
   "execution_count": 27,
   "id": "141ac9f3",
   "metadata": {},
   "outputs": [
    {
     "data": {
      "text/html": [
       "<div>\n",
       "<style scoped>\n",
       "    .dataframe tbody tr th:only-of-type {\n",
       "        vertical-align: middle;\n",
       "    }\n",
       "\n",
       "    .dataframe tbody tr th {\n",
       "        vertical-align: top;\n",
       "    }\n",
       "\n",
       "    .dataframe thead th {\n",
       "        text-align: right;\n",
       "    }\n",
       "</style>\n",
       "<table border=\"1\" class=\"dataframe\">\n",
       "  <thead>\n",
       "    <tr style=\"text-align: right;\">\n",
       "      <th></th>\n",
       "      <th>survival</th>\n",
       "      <th>still-alive</th>\n",
       "      <th>age-at-heart-attack</th>\n",
       "      <th>fractional-shortening</th>\n",
       "      <th>epss</th>\n",
       "      <th>lvdd</th>\n",
       "      <th>wall-motion-score</th>\n",
       "      <th>wall-motion-index</th>\n",
       "      <th>mult</th>\n",
       "      <th>group</th>\n",
       "      <th>alive-at-1</th>\n",
       "      <th>pericardial-effusion_1</th>\n",
       "    </tr>\n",
       "  </thead>\n",
       "  <tbody>\n",
       "    <tr>\n",
       "      <th>0</th>\n",
       "      <td>-0.729968</td>\n",
       "      <td>0.0</td>\n",
       "      <td>1.039461</td>\n",
       "      <td>0.419602</td>\n",
       "      <td>-0.470229</td>\n",
       "      <td>-0.190540</td>\n",
       "      <td>-0.053021</td>\n",
       "      <td>-0.859949</td>\n",
       "      <td>1.156755</td>\n",
       "      <td>-2.076063</td>\n",
       "      <td>-0.914411</td>\n",
       "      <td>0</td>\n",
       "    </tr>\n",
       "    <tr>\n",
       "      <th>1</th>\n",
       "      <td>-0.221716</td>\n",
       "      <td>0.0</td>\n",
       "      <td>1.170502</td>\n",
       "      <td>1.580619</td>\n",
       "      <td>-0.940477</td>\n",
       "      <td>-0.839869</td>\n",
       "      <td>-0.053021</td>\n",
       "      <td>0.767397</td>\n",
       "      <td>-0.939966</td>\n",
       "      <td>-2.076063</td>\n",
       "      <td>-0.914411</td>\n",
       "      <td>0</td>\n",
       "    </tr>\n",
       "    <tr>\n",
       "      <th>2</th>\n",
       "      <td>-0.412311</td>\n",
       "      <td>0.0</td>\n",
       "      <td>-1.057203</td>\n",
       "      <td>0.419602</td>\n",
       "      <td>-1.253976</td>\n",
       "      <td>-1.722956</td>\n",
       "      <td>-0.053021</td>\n",
       "      <td>-0.859949</td>\n",
       "      <td>1.156755</td>\n",
       "      <td>-2.076063</td>\n",
       "      <td>-0.914411</td>\n",
       "      <td>0</td>\n",
       "    </tr>\n",
       "    <tr>\n",
       "      <th>3</th>\n",
       "      <td>2.192480</td>\n",
       "      <td>0.0</td>\n",
       "      <td>-0.401996</td>\n",
       "      <td>0.351875</td>\n",
       "      <td>0.009737</td>\n",
       "      <td>-0.186644</td>\n",
       "      <td>0.390069</td>\n",
       "      <td>0.186202</td>\n",
       "      <td>0.077860</td>\n",
       "      <td>-2.076063</td>\n",
       "      <td>-0.914411</td>\n",
       "      <td>0</td>\n",
       "    </tr>\n",
       "    <tr>\n",
       "      <th>4</th>\n",
       "      <td>-0.221716</td>\n",
       "      <td>1.0</td>\n",
       "      <td>-0.795120</td>\n",
       "      <td>-0.547913</td>\n",
       "      <td>1.567512</td>\n",
       "      <td>1.302915</td>\n",
       "      <td>0.833159</td>\n",
       "      <td>2.046025</td>\n",
       "      <td>-1.026482</td>\n",
       "      <td>-2.076063</td>\n",
       "      <td>-0.914411</td>\n",
       "      <td>0</td>\n",
       "    </tr>\n",
       "  </tbody>\n",
       "</table>\n",
       "</div>"
      ],
      "text/plain": [
       "   survival  still-alive  age-at-heart-attack  fractional-shortening  \\\n",
       "0 -0.729968          0.0             1.039461               0.419602   \n",
       "1 -0.221716          0.0             1.170502               1.580619   \n",
       "2 -0.412311          0.0            -1.057203               0.419602   \n",
       "3  2.192480          0.0            -0.401996               0.351875   \n",
       "4 -0.221716          1.0            -0.795120              -0.547913   \n",
       "\n",
       "       epss      lvdd  wall-motion-score  wall-motion-index      mult  \\\n",
       "0 -0.470229 -0.190540          -0.053021          -0.859949  1.156755   \n",
       "1 -0.940477 -0.839869          -0.053021           0.767397 -0.939966   \n",
       "2 -1.253976 -1.722956          -0.053021          -0.859949  1.156755   \n",
       "3  0.009737 -0.186644           0.390069           0.186202  0.077860   \n",
       "4  1.567512  1.302915           0.833159           2.046025 -1.026482   \n",
       "\n",
       "      group  alive-at-1  pericardial-effusion_1  \n",
       "0 -2.076063   -0.914411                       0  \n",
       "1 -2.076063   -0.914411                       0  \n",
       "2 -2.076063   -0.914411                       0  \n",
       "3 -2.076063   -0.914411                       0  \n",
       "4 -2.076063   -0.914411                       0  "
      ]
     },
     "execution_count": 27,
     "metadata": {},
     "output_type": "execute_result"
    }
   ],
   "source": [
    "data1.head()"
   ]
  },
  {
   "cell_type": "code",
   "execution_count": 28,
   "id": "96d8ba43",
   "metadata": {},
   "outputs": [],
   "source": [
    "X = data1.drop(['still-alive'],axis=1)\n",
    "y = data1['still-alive']"
   ]
  },
  {
   "cell_type": "code",
   "execution_count": 29,
   "id": "46c23da0",
   "metadata": {},
   "outputs": [
    {
     "data": {
      "text/plain": [
       "((88, 11), (39, 11))"
      ]
     },
     "execution_count": 29,
     "metadata": {},
     "output_type": "execute_result"
    }
   ],
   "source": [
    "X_train, X_test, y_train, y_test = train_test_split(X, y, test_size=0.3, random_state=0)\n",
    "X_train.shape, X_test.shape"
   ]
  },
  {
   "cell_type": "code",
   "execution_count": 30,
   "id": "b367dac6",
   "metadata": {},
   "outputs": [],
   "source": [
    "accuracy = {}"
   ]
  },
  {
   "cell_type": "code",
   "execution_count": 31,
   "id": "4ef0b8ee",
   "metadata": {},
   "outputs": [
    {
     "name": "stdout",
     "output_type": "stream",
     "text": [
      "0.8717948717948718\n"
     ]
    }
   ],
   "source": [
    "model1 = LogisticRegression(max_iter=200)\n",
    "model1.fit(X_train, y_train)\n",
    "y_pred1 = model1.predict(X_test)\n",
    "print(accuracy_score(y_test, y_pred1))\n",
    "accuracy['Logistic Regression'] = accuracy_score(y_test, y_pred1)*100"
   ]
  },
  {
   "cell_type": "code",
   "execution_count": 32,
   "id": "4d549ffb",
   "metadata": {},
   "outputs": [
    {
     "name": "stdout",
     "output_type": "stream",
     "text": [
      "0.9230769230769231\n"
     ]
    }
   ],
   "source": [
    "model2 = DecisionTreeClassifier(criterion='entropy',max_depth=10, min_samples_leaf=10, random_state=40)\n",
    "model2.fit(X_train, y_train)\n",
    "y_pred2 = model2.predict(X_test)\n",
    "print(accuracy_score(y_test, y_pred2))\n",
    "accuracy['Decsision Tree'] = accuracy_score(y_test, y_pred2)*100"
   ]
  },
  {
   "cell_type": "code",
   "execution_count": 33,
   "id": "7d35bca2",
   "metadata": {},
   "outputs": [
    {
     "name": "stdout",
     "output_type": "stream",
     "text": [
      "0.9230769230769231\n"
     ]
    }
   ],
   "source": [
    "model3 = RandomForestClassifier(max_depth=6)\n",
    "model3.fit(X_train, y_train)\n",
    "y_pred3 = model3.predict(X_test)\n",
    "print(accuracy_score(y_test, y_pred3))\n",
    "accuracy['Random Forest'] = accuracy_score(y_test, y_pred3)*100"
   ]
  },
  {
   "cell_type": "code",
   "execution_count": 34,
   "id": "d3618271",
   "metadata": {},
   "outputs": [
    {
     "data": {
      "image/png": "[encoded data removed]",
      "text/plain": [
       "<Figure size 432x288 with 1 Axes>"
      ]
     },
     "metadata": {
      "needs_background": "light"
     },
     "output_type": "display_data"
    }
   ],
   "source": [
    "plt.figure(figsize=(6,4))\n",
    "algos = list(accuracy.keys())\n",
    "accu_val = list(accuracy.values())\n",
    "\n",
    "plt.bar(algos, accu_val,width=0.4,color='green')\n",
    "plt.title('Accuracy Differences',fontsize=25,color='tomato')\n",
    "plt.xlabel('Algorithms',fontsize=25,color='maroon')\n",
    "plt.ylabel('Accuracy',fontsize=25,color='maroon')\n",
    "plt.xticks(rotation=30,color='black',fontsize=15)\n",
    "plt.show()"
   ]
  },
  {
   "cell_type": "code",
   "execution_count": null,
   "id": "f5e313bf",
   "metadata": {},
   "outputs": [],
   "source": []
  }
 ],
 "metadata": {
  "kernelspec": {
   "display_name": "Python 3 (ipykernel)",
   "language": "python",
   "name": "python3"
  },
  "language_info": {
   "codemirror_mode": {
    "name": "ipython",
    "version": 3
   },
   "file_extension": ".py",
   "mimetype": "text/x-python",
   "name": "python",
   "nbconvert_exporter": "python",
   "pygments_lexer": "ipython3",
   "version": "3.9.12"
  }
 },
 "nbformat": 4,
 "nbformat_minor": 5
}
